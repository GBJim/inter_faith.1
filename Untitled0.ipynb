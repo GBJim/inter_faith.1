{
 "metadata": {
  "name": "",
  "signature": "sha256:75c7e52df91ed94bed14396ba8117386c1e051eaa63d931c0ec859938ad4250a"
 },
 "nbformat": 3,
 "nbformat_minor": 0,
 "worksheets": [
  {
   "cells": [
    {
     "cell_type": "code",
     "collapsed": false,
     "input": [
      "ls"
     ],
     "language": "python",
     "metadata": {},
     "outputs": [
      {
       "output_type": "stream",
       "stream": "stdout",
       "text": [
        "\u001b[0m\u001b[01;34mapp\u001b[0m/     config.ru  Gemfile.lock  \u001b[01;32mprelang-init\u001b[0m*  README.rdoc  Untitled0.ipynb\r\n",
        "\u001b[01;34mbin\u001b[0m/     \u001b[01;34mdb\u001b[0m/        \u001b[01;34mlib\u001b[0m/          \u001b[01;34mpublic\u001b[0m/        \u001b[01;34mtest\u001b[0m/        \u001b[01;34mvendor\u001b[0m/\r\n",
        "\u001b[01;34mconfig\u001b[0m/  Gemfile    \u001b[01;34mlog\u001b[0m/          Rakefile       \u001b[01;34mtmp\u001b[0m/\r\n"
       ]
      }
     ],
     "prompt_number": 1
    },
    {
     "cell_type": "code",
     "collapsed": false,
     "input": [
      "ls"
     ],
     "language": "python",
     "metadata": {},
     "outputs": [
      {
       "output_type": "stream",
       "stream": "stdout",
       "text": [
        "\u001b[0m\u001b[01;34mapp\u001b[0m/     config.ru  Gemfile.lock  \u001b[01;32mprelang-init\u001b[0m*  README.rdoc  Untitled0.ipynb\r\n",
        "\u001b[01;34mbin\u001b[0m/     \u001b[01;34mdb\u001b[0m/        \u001b[01;34mlib\u001b[0m/          \u001b[01;34mpublic\u001b[0m/        \u001b[01;34mtest\u001b[0m/        \u001b[01;34mvendor\u001b[0m/\r\n",
        "\u001b[01;34mconfig\u001b[0m/  Gemfile    \u001b[01;34mlog\u001b[0m/          Rakefile       \u001b[01;34mtmp\u001b[0m/\r\n"
       ]
      }
     ],
     "prompt_number": 2
    },
    {
     "cell_type": "code",
     "collapsed": false,
     "input": [],
     "language": "python",
     "metadata": {},
     "outputs": []
    }
   ],
   "metadata": {}
  }
 ]
}